{
 "cells": [
  {
   "cell_type": "code",
   "execution_count": null,
   "metadata": {},
   "outputs": [],
   "source": [
    "# Descargáis el JSON con las credenciales"
   ]
  },
  {
   "cell_type": "code",
   "execution_count": null,
   "metadata": {},
   "outputs": [],
   "source": [
    "pip install google-cloud-bigquery"
   ]
  },
  {
   "cell_type": "code",
   "execution_count": null,
   "metadata": {},
   "outputs": [],
   "source": [
    "#Establece la variable de entorno GOOGLE_APPLICATION_CREDENTIALS en la ruta del archivo JSON que habéis descargado:\n",
    "export GOOGLE_APPLICATION_CREDENTIALS=\"/ruta/hacia/tu/archivo.json\"\n",
    "\n",
    "# si no funciona también podéis hacer esto:\n",
    "import os\n",
    "os.environ[\"GOOGLE_APPLICATION_CREDENTIALS\"] = \"/ruta/hacia/tu/archivo.json\"\n"
   ]
  },
  {
   "cell_type": "code",
   "execution_count": null,
   "metadata": {},
   "outputs": [],
   "source": [
    "from google.cloud import bigquery\n",
    "\n",
    "#Crea una instancia de Client para interactuar con BigQuery.\n",
    "client = bigquery.Client()"
   ]
  },
  {
   "cell_type": "code",
   "execution_count": null,
   "metadata": {},
   "outputs": [],
   "source": [
    "#Utiliza el método to_gbq() de los DataFrames para cargar los datos en BigQuery.\n",
    "#Especificad el nombre de la tabla de BigQuery donde deseas cargar los datos, así como el ID del proyecto de GCP y el dataset donde se encuentra la tabla:\n",
    "project_id = 'tu-proyecto-gcp'\n",
    "dataset_id = 'tu-dataset'\n",
    "table_name = 'tu-tabla'"
   ]
  },
  {
   "cell_type": "code",
   "execution_count": null,
   "metadata": {},
   "outputs": [],
   "source": [
    "# Esto carga el DF de vehículos en BigQuery\n",
    "df_vehiculos.to_gbq(f'{dataset_id}.{table_name}', project_id=project_id, if_exists='replace')\n",
    "# Y este el de usuarios\n",
    "df_usuarios.to_gbq(f'{dataset_id}.{table_name}', project_id=project_id, if_exists='replace')\n"
   ]
  },
  {
   "cell_type": "code",
   "execution_count": null,
   "metadata": {},
   "outputs": [],
   "source": [
    "#IMPORTANTE: Al utilizar el parámetro if_exists='replace', los datos en la tabla de BigQuery serán reemplazados por los del DataFrame.\n",
    "#Asegúraos de tener los permisos necesarios para sobrescribir datos en la tabla especificada"
   ]
  }
 ],
 "metadata": {
  "language_info": {
   "name": "python"
  }
 },
 "nbformat": 4,
 "nbformat_minor": 2
}
