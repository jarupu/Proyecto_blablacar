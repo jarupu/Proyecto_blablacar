{
 "cells": [
  {
   "cell_type": "markdown",
   "metadata": {},
   "source": [
    "Estructura que vamos a implementar"
   ]
  },
  {
   "cell_type": "markdown",
   "metadata": {},
   "source": [
    "Generador de posiciones de vehiculos\n",
    "Revisar la función Treading.Thread, genera la misma función de python varias veces a la vez"
   ]
  },
  {
   "cell_type": "code",
   "execution_count": null,
   "metadata": {},
   "outputs": [],
   "source": [
    "# Aqui deberíamos poner el generador que tenemos, como idea, podemos guardar los mensajes en un bucket o mandarlos a pupsug, \n",
    "# revisar la función que genera varios posiciones random de diferentes vehículos como en el postwork de Javi.\n",
    "# En el trabajo final, esto lo puede hacer un VM"
   ]
  },
  {
   "cell_type": "markdown",
   "metadata": {},
   "source": [
    "Generador de posiciones de individuos\n",
    "Revisar la función Treading.Thread, genera la misma función de python varias veces a la vez"
   ]
  },
  {
   "cell_type": "code",
   "execution_count": null,
   "metadata": {},
   "outputs": [],
   "source": [
    "# Hacer otro generador, que tomando las posiciones de los kml´s y añadiendo  +/- x puntos, nos de posiciones \n",
    "# random de los usuarios. Podemos tambien guardarlos en otro bucket para posteriormente leerlos de ahí o mandarlos a pupsug.\n",
    "# En el trabajo final, esto lo puede hacer un VM "
   ]
  },
  {
   "cell_type": "markdown",
   "metadata": {},
   "source": [
    "Colas de mensajes. Tendremos así dos colas de PupSub que leerán los mensajes de los dos buckets: vehículos y clientes"
   ]
  },
  {
   "cell_type": "code",
   "execution_count": null,
   "metadata": {},
   "outputs": [],
   "source": [
    "        \"\"\" Part 01: Read data from PubSub. \"\"\"\n",
    "\n",
    "        data1 = (\n",
    "            p\n",
    "                | \"Read From PubSub\" >> # leemos del bucket de vehiculos\n",
    "                | \"Parse JSON messages\" >> #Tenemos que ver cual es la estructura del mensaje y transformarlo a nuetra conveniencia\n",
    "        )\n",
    "\n",
    "        data2 = (\n",
    "            p\n",
    "                | \"Read From PubSub\" >> # leemos del bucket de clientes\n",
    "                | \"Parse JSON messages\" >> #Tenemos que ver cual es la estructura del mensaje y transformarlo a nuetra conveniencia\n",
    "        )\n",
    "\n",
    "        \"\"\" Part 02: Get the aggregated data of the vehicle within the section. \"\"\"\n",
    "\n",
    "        data1, data2, processed_data = (\n",
    "            \n",
    "             \n",
    "                | \"tenemos que leer los datos de ambos topics\" >> #ToDo: Complete this section\n",
    "                | \"Cramos una ventana temporal donde\" >> # Tendremos las posiciones de los vehiculos y de los clientes\n",
    "                | \"Creamos una funcion (Dofn)\" >> # Donde comparemos las distancias entre ambos\n",
    "                # si esta distancia es > que x match, sino, no match.\n",
    "                | \"Tendremos que guardar los match en bigquery\" >> \n",
    "                |\"Ver donde guardamos los no match si en bigquery o en otro bucket sin más\"\n",
    "        \n",
    "    "
   ]
  },
  {
   "cell_type": "markdown",
   "metadata": {},
   "source": [
    "Leeremos de bigquery los resultados match y los mostramos con streamlit."
   ]
  }
 ],
 "metadata": {
  "kernelspec": {
   "display_name": "Python 3",
   "language": "python",
   "name": "python3"
  },
  "language_info": {
   "codemirror_mode": {
    "name": "ipython",
    "version": 3
   },
   "file_extension": ".py",
   "mimetype": "text/x-python",
   "name": "python",
   "nbconvert_exporter": "python",
   "pygments_lexer": "ipython3",
   "version": "3.10.11"
  }
 },
 "nbformat": 4,
 "nbformat_minor": 2
}
